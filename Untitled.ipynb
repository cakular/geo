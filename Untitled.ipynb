{
 "cells": [
  {
   "cell_type": "code",
   "execution_count": 17,
   "id": "6de4bb0f",
   "metadata": {},
   "outputs": [],
   "source": [
    "import tensorflow as tf #this is to import tensorflow\n",
    "from tensorflow.keras import datasets, layers, models #this is to import datasets layers models\n",
    "import json\n",
    "import pandas as pd"
   ]
  },
  {
   "cell_type": "code",
   "execution_count": 51,
   "id": "8529b1aa",
   "metadata": {},
   "outputs": [],
   "source": [
    "with open(\"all.json\", 'r') as f:\n",
    "    data_json = [i for i in json.loads(f.read()[:42990413]+\"]\") if i is not None]\n",
    "    #data_df = pd.read_json(str(f.read()[:42990413]+\"]\"))"
   ]
  },
  {
   "cell_type": "code",
   "execution_count": 54,
   "id": "a535dcf8",
   "metadata": {},
   "outputs": [
    {
     "data": {
      "text/html": [
       "<div>\n",
       "<style scoped>\n",
       "    .dataframe tbody tr th:only-of-type {\n",
       "        vertical-align: middle;\n",
       "    }\n",
       "\n",
       "    .dataframe tbody tr th {\n",
       "        vertical-align: top;\n",
       "    }\n",
       "\n",
       "    .dataframe thead th {\n",
       "        text-align: right;\n",
       "    }\n",
       "</style>\n",
       "<table border=\"1\" class=\"dataframe\">\n",
       "  <thead>\n",
       "    <tr style=\"text-align: right;\">\n",
       "      <th></th>\n",
       "      <th>id</th>\n",
       "      <th>url_256</th>\n",
       "      <th>url_1024</th>\n",
       "      <th>coordinates</th>\n",
       "    </tr>\n",
       "  </thead>\n",
       "  <tbody>\n",
       "    <tr>\n",
       "      <th>0</th>\n",
       "      <td>1509662729539070</td>\n",
       "      <td>https://scontent.fsin14-2.fna.fbcdn.net/m1/v/t...</td>\n",
       "      <td>https://scontent.fsin14-2.fna.fbcdn.net/m1/v/t...</td>\n",
       "      <td>[0, 0]</td>\n",
       "    </tr>\n",
       "    <tr>\n",
       "      <th>1</th>\n",
       "      <td>1587956288269248</td>\n",
       "      <td>https://scontent.fsin14-2.fna.fbcdn.net/m1/v/t...</td>\n",
       "      <td>https://scontent.fsin14-2.fna.fbcdn.net/m1/v/t...</td>\n",
       "      <td>[0, 0]</td>\n",
       "    </tr>\n",
       "    <tr>\n",
       "      <th>2</th>\n",
       "      <td>1414341782427856</td>\n",
       "      <td>https://scontent.fsin14-2.fna.fbcdn.net/m1/v/t...</td>\n",
       "      <td>https://scontent.fsin14-2.fna.fbcdn.net/m1/v/t...</td>\n",
       "      <td>[0, 0]</td>\n",
       "    </tr>\n",
       "    <tr>\n",
       "      <th>3</th>\n",
       "      <td>1504003806771142</td>\n",
       "      <td>https://scontent.fsin14-2.fna.fbcdn.net/m1/v/t...</td>\n",
       "      <td>https://scontent.fsin14-2.fna.fbcdn.net/m1/v/t...</td>\n",
       "      <td>[-9.5395717634566e-07, 5.4042628244286e-08]</td>\n",
       "    </tr>\n",
       "    <tr>\n",
       "      <th>4</th>\n",
       "      <td>1502346620201016</td>\n",
       "      <td>https://scontent.fsin14-2.fna.fbcdn.net/m1/v/t...</td>\n",
       "      <td>https://scontent.fsin14-2.fna.fbcdn.net/m1/v/t...</td>\n",
       "      <td>[0, 0]</td>\n",
       "    </tr>\n",
       "    <tr>\n",
       "      <th>...</th>\n",
       "      <td>...</td>\n",
       "      <td>...</td>\n",
       "      <td>...</td>\n",
       "      <td>...</td>\n",
       "    </tr>\n",
       "    <tr>\n",
       "      <th>61718</th>\n",
       "      <td>1223594408097958</td>\n",
       "      <td>https://scontent.fsin14-2.fna.fbcdn.net/m1/v/t...</td>\n",
       "      <td>https://scontent.fsin14-2.fna.fbcdn.net/m1/v/t...</td>\n",
       "      <td>[10.869970213081, 50.065787612267]</td>\n",
       "    </tr>\n",
       "    <tr>\n",
       "      <th>61719</th>\n",
       "      <td>1260584651024699</td>\n",
       "      <td>https://scontent.fsin14-2.fna.fbcdn.net/m1/v/t...</td>\n",
       "      <td>https://scontent.fsin14-2.fna.fbcdn.net/m1/v/t...</td>\n",
       "      <td>[10.915450952643, 50.023435681005]</td>\n",
       "    </tr>\n",
       "    <tr>\n",
       "      <th>61720</th>\n",
       "      <td>802455743581301</td>\n",
       "      <td>https://scontent.fsin14-2.fna.fbcdn.net/m1/v/t...</td>\n",
       "      <td>https://scontent.fsin14-2.fna.fbcdn.net/m1/v/t...</td>\n",
       "      <td>[100.12898, 50.496547777778]</td>\n",
       "    </tr>\n",
       "    <tr>\n",
       "      <th>61721</th>\n",
       "      <td>189364763047910</td>\n",
       "      <td>https://scontent.fsin14-2.fna.fbcdn.net/m1/v/t...</td>\n",
       "      <td>https://scontent.fsin14-2.fna.fbcdn.net/m1/v/t...</td>\n",
       "      <td>[100.50973194444, 50.624700833333]</td>\n",
       "    </tr>\n",
       "    <tr>\n",
       "      <th>61722</th>\n",
       "      <td>945281419349310</td>\n",
       "      <td>https://scontent.fsin14-2.fna.fbcdn.net/m1/v/t...</td>\n",
       "      <td>https://scontent.fsin14-2.fna.fbcdn.net/m1/v/t...</td>\n",
       "      <td>[100.54834194444, 50.787543888889]</td>\n",
       "    </tr>\n",
       "  </tbody>\n",
       "</table>\n",
       "<p>61723 rows × 4 columns</p>\n",
       "</div>"
      ],
      "text/plain": [
       "                     id                                            url_256  \\\n",
       "0      1509662729539070  https://scontent.fsin14-2.fna.fbcdn.net/m1/v/t...   \n",
       "1      1587956288269248  https://scontent.fsin14-2.fna.fbcdn.net/m1/v/t...   \n",
       "2      1414341782427856  https://scontent.fsin14-2.fna.fbcdn.net/m1/v/t...   \n",
       "3      1504003806771142  https://scontent.fsin14-2.fna.fbcdn.net/m1/v/t...   \n",
       "4      1502346620201016  https://scontent.fsin14-2.fna.fbcdn.net/m1/v/t...   \n",
       "...                 ...                                                ...   \n",
       "61718  1223594408097958  https://scontent.fsin14-2.fna.fbcdn.net/m1/v/t...   \n",
       "61719  1260584651024699  https://scontent.fsin14-2.fna.fbcdn.net/m1/v/t...   \n",
       "61720   802455743581301  https://scontent.fsin14-2.fna.fbcdn.net/m1/v/t...   \n",
       "61721   189364763047910  https://scontent.fsin14-2.fna.fbcdn.net/m1/v/t...   \n",
       "61722   945281419349310  https://scontent.fsin14-2.fna.fbcdn.net/m1/v/t...   \n",
       "\n",
       "                                                url_1024  \\\n",
       "0      https://scontent.fsin14-2.fna.fbcdn.net/m1/v/t...   \n",
       "1      https://scontent.fsin14-2.fna.fbcdn.net/m1/v/t...   \n",
       "2      https://scontent.fsin14-2.fna.fbcdn.net/m1/v/t...   \n",
       "3      https://scontent.fsin14-2.fna.fbcdn.net/m1/v/t...   \n",
       "4      https://scontent.fsin14-2.fna.fbcdn.net/m1/v/t...   \n",
       "...                                                  ...   \n",
       "61718  https://scontent.fsin14-2.fna.fbcdn.net/m1/v/t...   \n",
       "61719  https://scontent.fsin14-2.fna.fbcdn.net/m1/v/t...   \n",
       "61720  https://scontent.fsin14-2.fna.fbcdn.net/m1/v/t...   \n",
       "61721  https://scontent.fsin14-2.fna.fbcdn.net/m1/v/t...   \n",
       "61722  https://scontent.fsin14-2.fna.fbcdn.net/m1/v/t...   \n",
       "\n",
       "                                       coordinates  \n",
       "0                                           [0, 0]  \n",
       "1                                           [0, 0]  \n",
       "2                                           [0, 0]  \n",
       "3      [-9.5395717634566e-07, 5.4042628244286e-08]  \n",
       "4                                           [0, 0]  \n",
       "...                                            ...  \n",
       "61718           [10.869970213081, 50.065787612267]  \n",
       "61719           [10.915450952643, 50.023435681005]  \n",
       "61720                 [100.12898, 50.496547777778]  \n",
       "61721           [100.50973194444, 50.624700833333]  \n",
       "61722           [100.54834194444, 50.787543888889]  \n",
       "\n",
       "[61723 rows x 4 columns]"
      ]
     },
     "execution_count": 54,
     "metadata": {},
     "output_type": "execute_result"
    }
   ],
   "source": [
    "data_df = pd.json_normalize(data_json)\n",
    "data_df"
   ]
  },
  {
   "cell_type": "code",
   "execution_count": 55,
   "id": "5758ff57",
   "metadata": {},
   "outputs": [
    {
     "name": "stdout",
     "output_type": "stream",
     "text": [
      "Downloading data from https://storage.googleapis.com/tensorflow/keras-applications/resnet/resnet152_weights_tf_dim_ordering_tf_kernels_notop.h5\n",
      "234698864/234698864 [==============================] - 19s 0us/step\n"
     ]
    }
   ],
   "source": [
    "base_model = tf.keras.applications.ResNet152(include_top=False, weights=\"imagenet\", input_shape=(256,256,3))\n",
    "for layer in base_model.layers:\n",
    "    layer.trainable = False"
   ]
  },
  {
   "cell_type": "code",
   "execution_count": 56,
   "id": "0af23db7",
   "metadata": {},
   "outputs": [
    {
     "name": "stdout",
     "output_type": "stream",
     "text": [
      "Downloading data from https://storage.googleapis.com/tensorflow/tf-keras-datasets/mnist.npz\n",
      "11490434/11490434 [==============================] - 2s 0us/step\n"
     ]
    }
   ],
   "source": [
    "(x_train,y_train),(x_test,y_test) = datasets.mnist.load_data()\n",
    "x_train = tf.pad(x_train, [[0, 0], [2,2], [2,2]])/255\n",
    "x_test = tf.pad(x_test, [[0, 0], [2,2], [2,2]])/255\n",
    "x_train = tf.expand_dims(x_train, axis=3, name=None)\n",
    "x_test = tf.expand_dims(x_test, axis=3, name=None)\n",
    "x_train = tf.repeat(x_train, 3, axis=3)\n",
    "x_test = tf.repeat(x_test, 3, axis=3)\n",
    "x_val = x_train[-2000:,:,:,:]\n",
    "y_val = y_train[-2000:]\n",
    "x_train = x_train[:-2000,:,:,:]\n",
    "y_train = y_train[:-2000]"
   ]
  },
  {
   "cell_type": "code",
   "execution_count": 64,
   "id": "dcc8400a",
   "metadata": {},
   "outputs": [
    {
     "data": {
      "text/plain": [
       "TensorShape([58000, 32, 32, 3])"
      ]
     },
     "execution_count": 64,
     "metadata": {},
     "output_type": "execute_result"
    }
   ],
   "source": [
    "x_train.shape"
   ]
  },
  {
   "cell_type": "code",
   "execution_count": null,
   "id": "8bb250bd",
   "metadata": {},
   "outputs": [],
   "source": []
  }
 ],
 "metadata": {
  "kernelspec": {
   "display_name": "Python 3 (ipykernel)",
   "language": "python",
   "name": "python3"
  },
  "language_info": {
   "codemirror_mode": {
    "name": "ipython",
    "version": 3
   },
   "file_extension": ".py",
   "mimetype": "text/x-python",
   "name": "python",
   "nbconvert_exporter": "python",
   "pygments_lexer": "ipython3",
   "version": "3.9.12"
  }
 },
 "nbformat": 4,
 "nbformat_minor": 5
}
