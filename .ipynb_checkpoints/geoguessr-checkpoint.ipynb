{
 "cells": [
  {
   "cell_type": "code",
   "execution_count": null,
   "metadata": {},
   "outputs": [],
   "source": [
    "!pip install opencv-python"
   ]
  },
  {
   "cell_type": "code",
   "execution_count": null,
   "metadata": {
    "id": "or4uJ5a6yCvS"
   },
   "outputs": [],
   "source": [
    "import tensorflow as tf # this is to import tensorflow\n",
    "import json # this is to import json\n",
    "import pandas as pd # this is to import pandas\n",
    "import numpy as np # this is to import numpy\n",
    "from skimage import io, transform # this is to import skimage\n",
    "from sklearn.model_selection import train_test_split # this is just for train test split lol\n",
    "import cv2 # compooter vision\n",
    "from tensorflow.keras import datasets, layers, models, losses, Model # this imports things\n",
    "from tqdm.notebook import tqdm # this is literally just a progress bar\n",
    "import os # operating system things\n",
    "import glob\n",
    "from PIL import Image # this is to resize images"
   ]
  },
  {
   "cell_type": "code",
   "execution_count": null,
   "metadata": {
    "id": "mfZFyFtEbGLz"
   },
   "outputs": [],
   "source": [
    "# Read the json\n",
    "with open(\"amogus2.json\", 'r') as f:\n",
    "    data_df = pd.json_normalize([i for i in json.loads(f.read()) if i is not None])\n",
    "data_df = data_df.set_index(\"id\")\n",
    "data_df"
   ]
  },
  {
   "cell_type": "code",
   "execution_count": null,
   "metadata": {
    "id": "3THkLYsOWxUp"
   },
   "outputs": [],
   "source": [
    "value_counts = data_df['location_id'].value_counts()\n",
    "\n",
    "# create a boolean mask to select the rows where the value occurs >= 10 times\n",
    "mask = data_df['location_id'].isin(value_counts[value_counts >= 10].index)\n",
    "\n",
    "# apply the boolean mask to the dataframe to filter out the rows\n",
    "df_filtered = data_df[mask]\n",
    "df_filtered"
   ]
  },
  {
   "cell_type": "code",
   "execution_count": null,
   "metadata": {},
   "outputs": [],
   "source": [
    "images = {file: cv2.imread(file) for file in tqdm(glob.glob(\"img2/*.jpg\"))}"
   ]
  },
  {
   "cell_type": "code",
   "execution_count": null,
   "metadata": {},
   "outputs": [],
   "source": [
    "img_series = pd.Series(images)\n",
    "img_series = img_series[img_series.notna()].copy()\n",
    "img_series = img_series[[i.shape==(192, 256, 3) for i in tqdm(img_series)]].copy() # change to reshape\n",
    "# img_series = img_series.apply(lambda x: reshape(x))\n",
    "img_series = img_series.rename(lambda str: str[5:-4]) # convert file name e.g. \"img2\\1000148914149750.jpg\"->1000148914149750\n",
    "img_series"
   ]
  },
  {
   "cell_type": "code",
   "execution_count": null,
   "metadata": {},
   "outputs": [],
   "source": [
    "data_df[\"img\"] = img_series\n",
    "data_df = data_df.dropna()\n",
    "data_df"
   ]
  },
  {
   "cell_type": "code",
   "execution_count": null,
   "metadata": {},
   "outputs": [],
   "source": [
    "country_df = data_df[data_df[\"country\"] != \"null\"]\n",
    "country_df"
   ]
  },
  {
   "cell_type": "code",
   "execution_count": null,
   "metadata": {},
   "outputs": [],
   "source": [
    "country_df.groupby(['country']).count().sort_values(by='img')"
   ]
  },
  {
   "cell_type": "code",
   "execution_count": null,
   "metadata": {},
   "outputs": [],
   "source": [
    "wts = dict(1 / country_df.groupby(['country']).count().reset_index()[\"img\"])\n",
    "wts"
   ]
  },
  {
   "cell_type": "code",
   "execution_count": null,
   "metadata": {},
   "outputs": [],
   "source": [
    "from sklearn.preprocessing import OneHotEncoder\n",
    "\n",
    "encoder = OneHotEncoder(handle_unknown='ignore')\n",
    "enc_country_df = pd.DataFrame(encoder.fit_transform(country_df[['country']]).toarray())\n",
    "enc_country_df"
   ]
  },
  {
   "cell_type": "code",
   "execution_count": null,
   "metadata": {
    "id": "rRSnzf1Sd6Ld"
   },
   "outputs": [],
   "source": [
    "X_train_index, X_test_index, y_train, y_test = train_test_split(list(country_df.index), enc_country_df, test_size=0.20)"
   ]
  },
  {
   "cell_type": "code",
   "execution_count": null,
   "metadata": {},
   "outputs": [],
   "source": [
    "X_train = np.stack(img_series[X_train_index].values)\n",
    "X_test = np.stack(img_series[X_test_index].values)"
   ]
  },
  {
   "cell_type": "code",
   "execution_count": null,
   "metadata": {
    "id": "dzLrRQcwh6gt"
   },
   "outputs": [],
   "source": [
    "resnet_model = tf.keras.applications.ResNet152(weights = 'imagenet', include_top = False, input_shape = (192,256,3))\n",
    "unfreeze_layers = 5\n",
    "for layer in resnet_model.layers[:-unfreeze_layers]:\n",
    "    layer.trainable = False"
   ]
  },
  {
   "cell_type": "code",
   "execution_count": null,
   "metadata": {},
   "outputs": [],
   "source": [
    "model = models.Sequential()\n",
    "#model.add(layers.Lambda(lambda image: tf.image.resize(image, (128, 256))))\n",
    "model.add(resnet_model)\n",
    "model.add(layers.Flatten())\n",
    "model.add(layers.Dense(1000, activation='relu'))\n",
    "model.add(layers.Dropout(0.5))\n",
    "model.add(layers.BatchNormalization())\n",
    "model.add(layers.Dense(len(enc_country_df.columns), activation=\"softmax\"))"
   ]
  },
  {
   "cell_type": "code",
   "execution_count": null,
   "metadata": {},
   "outputs": [],
   "source": [
    "model.compile(optimizer='adam', loss='mean_squared_error', metrics=['accuracy'])"
   ]
  },
  {
   "cell_type": "code",
   "execution_count": null,
   "metadata": {
    "id": "mc5X6w4cZsp6"
   },
   "outputs": [],
   "source": [
    "model.fit(X_train, y_train, batch_size=64, epochs=5, class_weight=wts, validation_data=(X_test[:100], y_test[:100]))"
   ]
  },
  {
   "cell_type": "code",
   "execution_count": null,
   "metadata": {},
   "outputs": [],
   "source": [
    "from collections import Counter\n",
    "Counter([i.shape for i in tqdm(img_series)])"
   ]
  },
  {
   "cell_type": "code",
   "execution_count": null,
   "metadata": {
    "scrolled": false
   },
   "outputs": [],
   "source": [
    "theimg = io.imread(\"random_images/boarding.jpg\") #country_df['image'][380]\n",
    "reshaped = reshape()\n",
    "io.imshow(reshaped)"
   ]
  },
  {
   "cell_type": "code",
   "execution_count": null,
   "metadata": {},
   "outputs": [],
   "source": [
    "p = model.predict(reshaped[None, ...])\n",
    "argmax = p[0].argmax()\n",
    "encoder.categories_[0][argmax]"
   ]
  },
  {
   "cell_type": "code",
   "execution_count": null,
   "metadata": {},
   "outputs": [],
   "source": [
    "io.imshow(country_df['image'][380])"
   ]
  }
 ],
 "metadata": {
  "accelerator": "GPU",
  "colab": {
   "provenance": []
  },
  "gpuClass": "standard",
  "kernelspec": {
   "display_name": "Python 3 (ipykernel)",
   "language": "python",
   "name": "python3"
  },
  "language_info": {
   "codemirror_mode": {
    "name": "ipython",
    "version": 3
   },
   "file_extension": ".py",
   "mimetype": "text/x-python",
   "name": "python",
   "nbconvert_exporter": "python",
   "pygments_lexer": "ipython3",
   "version": "3.9.12"
  }
 },
 "nbformat": 4,
 "nbformat_minor": 1
}
