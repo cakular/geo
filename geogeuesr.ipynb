{
 "cells": [
  {
   "cell_type": "code",
   "execution_count": 1,
   "metadata": {},
   "outputs": [
    {
     "name": "stdout",
     "output_type": "stream",
     "text": [
      "Requirement already satisfied: opencv-python in c:\\users\\user\\anaconda3\\lib\\site-packages (4.7.0.72)\n",
      "Requirement already satisfied: numpy>=1.17.0 in c:\\users\\user\\anaconda3\\lib\\site-packages (from opencv-python) (1.21.5)\n"
     ]
    }
   ],
   "source": [
    "!pip install opencv-python"
   ]
  },
  {
   "cell_type": "code",
   "execution_count": 45,
   "metadata": {
    "id": "or4uJ5a6yCvS"
   },
   "outputs": [],
   "source": [
    "import tensorflow as tf\n",
    "import json\n",
    "import pandas as pd\n",
    "import numpy as np\n",
    "from skimage import io, transform\n",
    "from sklearn.model_selection import train_test_split\n",
    "import cv2\n",
    "from tensorflow.keras import datasets, layers, models, losses, Model\n",
    "from tqdm.notebook import tqdm\n",
    "import os\n",
    "import glob"
   ]
  },
  {
   "cell_type": "code",
   "execution_count": 3,
   "metadata": {
    "colab": {
     "base_uri": "https://localhost:8080/"
    },
    "id": "fRtmzUlPnHyh",
    "outputId": "30631321-83a1-4e56-9559-ce40d3540728"
   },
   "outputs": [],
   "source": [
    "#from google.colab import drive\n",
    "#drive.mount('/content/drive')"
   ]
  },
  {
   "cell_type": "code",
   "execution_count": 4,
   "metadata": {
    "id": "He5nJQLiNybF"
   },
   "outputs": [],
   "source": [
    "#!cp \"drive/MyDrive/all.json\" \"/content/\""
   ]
  },
  {
   "cell_type": "code",
   "execution_count": 91,
   "metadata": {
    "id": "mfZFyFtEbGLz"
   },
   "outputs": [
    {
     "ename": "FileNotFoundError",
     "evalue": "[Errno 2] No such file or directory: 'all2.json'",
     "output_type": "error",
     "traceback": [
      "\u001b[1;31m---------------------------------------------------------------------------\u001b[0m",
      "\u001b[1;31mFileNotFoundError\u001b[0m                         Traceback (most recent call last)",
      "Input \u001b[1;32mIn [91]\u001b[0m, in \u001b[0;36m<cell line: 1>\u001b[1;34m()\u001b[0m\n\u001b[1;32m----> 1\u001b[0m \u001b[38;5;28;01mwith\u001b[39;00m \u001b[38;5;28;43mopen\u001b[39;49m\u001b[43m(\u001b[49m\u001b[38;5;124;43m\"\u001b[39;49m\u001b[38;5;124;43mall2.json\u001b[39;49m\u001b[38;5;124;43m\"\u001b[39;49m\u001b[43m,\u001b[49m\u001b[43m \u001b[49m\u001b[38;5;124;43m'\u001b[39;49m\u001b[38;5;124;43mr\u001b[39;49m\u001b[38;5;124;43m'\u001b[39;49m\u001b[43m)\u001b[49m \u001b[38;5;28;01mas\u001b[39;00m f:\n\u001b[0;32m      2\u001b[0m     data_df \u001b[38;5;241m=\u001b[39m pd\u001b[38;5;241m.\u001b[39mjson_normalize([i \u001b[38;5;28;01mfor\u001b[39;00m i \u001b[38;5;129;01min\u001b[39;00m json\u001b[38;5;241m.\u001b[39mloads(f\u001b[38;5;241m.\u001b[39mread()) \u001b[38;5;28;01mif\u001b[39;00m i \u001b[38;5;129;01mis\u001b[39;00m \u001b[38;5;129;01mnot\u001b[39;00m \u001b[38;5;28;01mNone\u001b[39;00m])\n",
      "\u001b[1;31mFileNotFoundError\u001b[0m: [Errno 2] No such file or directory: 'all2.json'"
     ]
    }
   ],
   "source": [
    "with open(\"all.json\", 'r') as f:\n",
    "    data_df = pd.json_normalize([i for i in json.loads(f.read()) if i is not None])"
   ]
  },
  {
   "cell_type": "code",
   "execution_count": 9,
   "metadata": {
    "id": "3THkLYsOWxUp"
   },
   "outputs": [],
   "source": [
    "def reshape(img):\n",
    "    arr = io.imread(url)\n",
    "    if arr.shape!=(128,256,3):\n",
    "        arr = (255 * transform.resize(arr, (128,256))).astype(np.uint8)\n",
    "    return arr"
   ]
  },
  {
   "cell_type": "code",
   "execution_count": 249,
   "metadata": {},
   "outputs": [],
   "source": [
    "# images = {}\n",
    "# folder = \"img2\"\n",
    "# for filename in tqdm(os.listdir(folder)):\n",
    "#     img = cv2.imread(os.path.join(folder,filename))\n",
    "#     if img is not None:\n",
    "#         if img.shape!=(128,256,3):\n",
    "#             img = (255 * transform.resize(img, (128,256))).astype(np.uint8)\n",
    "#         images[os.path.splitext(filename)[0]] = img\n",
    "        \n",
    "\n",
    "def reshape(img):\n",
    "    if img.shape!=(192,256,3):\n",
    "        img = (255 * transform.resize(img, (192,256))).astype(np.uint8)\n",
    "    return img"
   ]
  },
  {
   "cell_type": "code",
   "execution_count": 46,
   "metadata": {},
   "outputs": [
    {
     "data": {
      "application/vnd.jupyter.widget-view+json": {
       "model_id": "5b15f67f78af436d80b014b1edf3b2cc",
       "version_major": 2,
       "version_minor": 0
      },
      "text/plain": [
       "  0%|          | 0/76440 [00:00<?, ?it/s]"
      ]
     },
     "metadata": {},
     "output_type": "display_data"
    }
   ],
   "source": [
    "images = {file: cv2.imread(file) for file in tqdm(glob.glob(\"img2/*.jpg\"))}"
   ]
  },
  {
   "cell_type": "code",
   "execution_count": 119,
   "metadata": {},
   "outputs": [],
   "source": [
    "img_series = pd.Series(images)"
   ]
  },
  {
   "cell_type": "code",
   "execution_count": 173,
   "metadata": {},
   "outputs": [],
   "source": [
    "img_series = img_series[img_series.notna()].copy()"
   ]
  },
  {
   "cell_type": "code",
   "execution_count": 217,
   "metadata": {},
   "outputs": [],
   "source": [
    "img_series = img_series[[i.shape==(192, 256, 3) for i in img_series]].copy()"
   ]
  },
  {
   "cell_type": "code",
   "execution_count": 218,
   "metadata": {},
   "outputs": [
    {
     "data": {
      "application/vnd.jupyter.widget-view+json": {
       "model_id": "3a9bf008abad4c6ba600b30a3d71c650",
       "version_major": 2,
       "version_minor": 0
      },
      "text/plain": [
       "  0%|          | 0/31661 [00:00<?, ?it/s]"
      ]
     },
     "metadata": {},
     "output_type": "display_data"
    }
   ],
   "source": [
    "ids = [os.path.splitext(os.path.basename(filename))[0] for filename in tqdm(img_series.index)]\n",
    "imgs = img_series.values"
   ]
  },
  {
   "cell_type": "code",
   "execution_count": 94,
   "metadata": {},
   "outputs": [
    {
     "ename": "KeyError",
     "evalue": "\"None of ['id'] are in the columns\"",
     "output_type": "error",
     "traceback": [
      "\u001b[1;31m---------------------------------------------------------------------------\u001b[0m",
      "\u001b[1;31mKeyError\u001b[0m                                  Traceback (most recent call last)",
      "Input \u001b[1;32mIn [94]\u001b[0m, in \u001b[0;36m<cell line: 1>\u001b[1;34m()\u001b[0m\n\u001b[1;32m----> 1\u001b[0m data_df \u001b[38;5;241m=\u001b[39m \u001b[43mdata_df\u001b[49m\u001b[38;5;241;43m.\u001b[39;49m\u001b[43mset_index\u001b[49m\u001b[43m(\u001b[49m\u001b[38;5;124;43m\"\u001b[39;49m\u001b[38;5;124;43mid\u001b[39;49m\u001b[38;5;124;43m\"\u001b[39;49m\u001b[43m)\u001b[49m\u001b[38;5;241m.\u001b[39mdrop_duplicates()\n",
      "File \u001b[1;32m~\\anaconda3\\lib\\site-packages\\pandas\\util\\_decorators.py:311\u001b[0m, in \u001b[0;36mdeprecate_nonkeyword_arguments.<locals>.decorate.<locals>.wrapper\u001b[1;34m(*args, **kwargs)\u001b[0m\n\u001b[0;32m    305\u001b[0m \u001b[38;5;28;01mif\u001b[39;00m \u001b[38;5;28mlen\u001b[39m(args) \u001b[38;5;241m>\u001b[39m num_allow_args:\n\u001b[0;32m    306\u001b[0m     warnings\u001b[38;5;241m.\u001b[39mwarn(\n\u001b[0;32m    307\u001b[0m         msg\u001b[38;5;241m.\u001b[39mformat(arguments\u001b[38;5;241m=\u001b[39marguments),\n\u001b[0;32m    308\u001b[0m         \u001b[38;5;167;01mFutureWarning\u001b[39;00m,\n\u001b[0;32m    309\u001b[0m         stacklevel\u001b[38;5;241m=\u001b[39mstacklevel,\n\u001b[0;32m    310\u001b[0m     )\n\u001b[1;32m--> 311\u001b[0m \u001b[38;5;28;01mreturn\u001b[39;00m func(\u001b[38;5;241m*\u001b[39margs, \u001b[38;5;241m*\u001b[39m\u001b[38;5;241m*\u001b[39mkwargs)\n",
      "File \u001b[1;32m~\\anaconda3\\lib\\site-packages\\pandas\\core\\frame.py:5494\u001b[0m, in \u001b[0;36mDataFrame.set_index\u001b[1;34m(self, keys, drop, append, inplace, verify_integrity)\u001b[0m\n\u001b[0;32m   5491\u001b[0m                 missing\u001b[38;5;241m.\u001b[39mappend(col)\n\u001b[0;32m   5493\u001b[0m \u001b[38;5;28;01mif\u001b[39;00m missing:\n\u001b[1;32m-> 5494\u001b[0m     \u001b[38;5;28;01mraise\u001b[39;00m \u001b[38;5;167;01mKeyError\u001b[39;00m(\u001b[38;5;124mf\u001b[39m\u001b[38;5;124m\"\u001b[39m\u001b[38;5;124mNone of \u001b[39m\u001b[38;5;132;01m{\u001b[39;00mmissing\u001b[38;5;132;01m}\u001b[39;00m\u001b[38;5;124m are in the columns\u001b[39m\u001b[38;5;124m\"\u001b[39m)\n\u001b[0;32m   5496\u001b[0m \u001b[38;5;28;01mif\u001b[39;00m inplace:\n\u001b[0;32m   5497\u001b[0m     frame \u001b[38;5;241m=\u001b[39m \u001b[38;5;28mself\u001b[39m\n",
      "\u001b[1;31mKeyError\u001b[0m: \"None of ['id'] are in the columns\""
     ]
    }
   ],
   "source": [
    "data_df = data_df.set_index(\"id\")"
   ]
  },
  {
   "cell_type": "code",
   "execution_count": 219,
   "metadata": {
    "scrolled": true
   },
   "outputs": [],
   "source": [
    "coords = np.stack(data_df.loc[ids, \"coordinates\"])"
   ]
  },
  {
   "cell_type": "code",
   "execution_count": 84,
   "metadata": {},
   "outputs": [
    {
     "data": {
      "text/plain": [
       "76440"
      ]
     },
     "execution_count": 84,
     "metadata": {},
     "output_type": "execute_result"
    }
   ],
   "source": [
    "len(ids)"
   ]
  },
  {
   "cell_type": "code",
   "execution_count": 220,
   "metadata": {
    "id": "rRSnzf1Sd6Ld"
   },
   "outputs": [],
   "source": [
    "X_train_index, X_test_index, y_train, y_test = train_test_split(list(img_series.index), coords, test_size=0.20)"
   ]
  },
  {
   "cell_type": "code",
   "execution_count": 227,
   "metadata": {},
   "outputs": [],
   "source": [
    "X_train = np.stack(img_series[X_train_index].values)\n",
    "X_test = np.stack(img_series[X_test_index].values)"
   ]
  },
  {
   "cell_type": "code",
   "execution_count": 233,
   "metadata": {
    "id": "dzLrRQcwh6gt"
   },
   "outputs": [],
   "source": [
    "resnet_model = tf.keras.applications.ResNet152(weights = 'imagenet', include_top = False, input_shape = (192,256,3))\n",
    "for layer in resnet_model.layers:\n",
    "    layer.trainable = False"
   ]
  },
  {
   "cell_type": "code",
   "execution_count": 234,
   "metadata": {},
   "outputs": [],
   "source": [
    "model = models.Sequential()\n",
    "#model.add(layers.Lambda(lambda image: tf.image.resize(image, (128, 256))))\n",
    "model.add(resnet_model)\n",
    "model.add(layers.Flatten())\n",
    "model.add(layers.Dense(1000, activation='relu'))\n",
    "model.add(layers.Dropout(0.5))\n",
    "model.add(layers.BatchNormalization())\n",
    "model.add(layers.Dense(2, activation=\"linear\"))"
   ]
  },
  {
   "cell_type": "code",
   "execution_count": 235,
   "metadata": {},
   "outputs": [],
   "source": [
    "model.compile(optimizer='adam', loss='mean_squared_error', metrics=['accuracy'])"
   ]
  },
  {
   "cell_type": "code",
   "execution_count": 237,
   "metadata": {
    "id": "mc5X6w4cZsp6"
   },
   "outputs": [
    {
     "name": "stdout",
     "output_type": "stream",
     "text": [
      "Epoch 1/5\n",
      "16/16 [==============================] - 1218s 76s/step - loss: 3380.4619 - accuracy: 0.6140 - val_loss: 2809.0996 - val_accuracy: 0.5800\n",
      "Epoch 2/5\n",
      "16/16 [==============================] - 1178s 74s/step - loss: 3076.5803 - accuracy: 0.6550 - val_loss: 2785.5923 - val_accuracy: 0.6300\n",
      "Epoch 3/5\n",
      "16/16 [==============================] - 1181s 74s/step - loss: 2693.8711 - accuracy: 0.7130 - val_loss: 2735.2993 - val_accuracy: 0.6200\n",
      "Epoch 4/5\n",
      "16/16 [==============================] - 1177s 74s/step - loss: 2259.7832 - accuracy: 0.7980 - val_loss: 2717.4912 - val_accuracy: 0.6000\n",
      "Epoch 5/5\n",
      "16/16 [==============================] - 1178s 74s/step - loss: 1823.5978 - accuracy: 0.8290 - val_loss: 2716.4915 - val_accuracy: 0.6100\n"
     ]
    },
    {
     "data": {
      "text/plain": [
       "<keras.callbacks.History at 0x27c8b45fa60>"
      ]
     },
     "execution_count": 237,
     "metadata": {},
     "output_type": "execute_result"
    }
   ],
   "source": [
    "model.fit(X_train[:1000], y_train[:1000], batch_size=64, epochs=5, validation_data=(X_test[:100], y_test[:100]))"
   ]
  },
  {
   "cell_type": "code",
   "execution_count": 205,
   "metadata": {},
   "outputs": [
    {
     "data": {
      "application/vnd.jupyter.widget-view+json": {
       "model_id": "c7849480fbfd406cb6d9d2a47144b73c",
       "version_major": 2,
       "version_minor": 0
      },
      "text/plain": [
       "  0%|          | 0/76433 [00:00<?, ?it/s]"
      ]
     },
     "metadata": {},
     "output_type": "display_data"
    },
    {
     "data": {
      "text/plain": [
       "Counter({(192, 256, 3): 31661,\n",
       "         (256, 256, 3): 538,\n",
       "         (144, 256, 3): 32113,\n",
       "         (144, 81, 3): 14,\n",
       "         (170, 255, 3): 615,\n",
       "         (153, 255, 3): 582,\n",
       "         (128, 256, 3): 4892,\n",
       "         (116, 256, 3): 55,\n",
       "         (191, 255, 3): 325,\n",
       "         (341, 256, 3): 170,\n",
       "         (455, 256, 3): 65,\n",
       "         (137, 255, 3): 9,\n",
       "         (149, 255, 3): 182,\n",
       "         (171, 255, 3): 78,\n",
       "         (118, 256, 3): 137,\n",
       "         (143, 255, 3): 349,\n",
       "         (135, 256, 3): 259,\n",
       "         (144, 255, 3): 477,\n",
       "         (115, 256, 3): 254,\n",
       "         (117, 254, 3): 71,\n",
       "         (192, 144, 3): 66,\n",
       "         (164, 256, 3): 2,\n",
       "         (120, 255, 3): 161,\n",
       "         (169, 255, 3): 23,\n",
       "         (189, 255, 3): 214,\n",
       "         (143, 254, 3): 447,\n",
       "         (109, 254, 3): 26,\n",
       "         (383, 255, 3): 4,\n",
       "         (150, 256, 3): 1,\n",
       "         (360, 256, 3): 1,\n",
       "         (150, 255, 3): 7,\n",
       "         (123, 255, 3): 84,\n",
       "         (70, 253, 3): 1,\n",
       "         (191, 256, 3): 141,\n",
       "         (192, 255, 3): 123,\n",
       "         (111, 254, 3): 6,\n",
       "         (56, 255, 3): 6,\n",
       "         (176, 255, 3): 3,\n",
       "         (170, 256, 3): 59,\n",
       "         (96, 256, 3): 89,\n",
       "         (111, 255, 3): 1,\n",
       "         (103, 254, 3): 53,\n",
       "         (157, 254, 3): 19,\n",
       "         (172, 255, 3): 11,\n",
       "         (124, 255, 3): 7,\n",
       "         (108, 256, 3): 46,\n",
       "         (385, 256, 3): 5,\n",
       "         (42, 256, 3): 1,\n",
       "         (160, 255, 3): 2,\n",
       "         (181, 255, 3): 4,\n",
       "         (156, 255, 3): 5,\n",
       "         (168, 255, 3): 8,\n",
       "         (170, 113, 3): 5,\n",
       "         (133, 256, 3): 10,\n",
       "         (171, 256, 3): 8,\n",
       "         (186, 255, 3): 3,\n",
       "         (152, 255, 3): 1,\n",
       "         (154, 255, 3): 11,\n",
       "         (214, 256, 3): 551,\n",
       "         (51, 256, 3): 1,\n",
       "         (190, 256, 3): 13,\n",
       "         (102, 255, 3): 19,\n",
       "         (204, 255, 3): 50,\n",
       "         (138, 256, 3): 27,\n",
       "         (123, 254, 3): 1,\n",
       "         (143, 256, 3): 80,\n",
       "         (100, 256, 3): 7,\n",
       "         (135, 255, 3): 69,\n",
       "         (130, 256, 3): 53,\n",
       "         (87, 256, 3): 89,\n",
       "         (134, 256, 3): 6,\n",
       "         (175, 255, 3): 4,\n",
       "         (151, 255, 3): 1,\n",
       "         (115, 254, 3): 128,\n",
       "         (139, 256, 3): 4,\n",
       "         (133, 255, 3): 13,\n",
       "         (193, 256, 3): 15,\n",
       "         (99, 255, 3): 35,\n",
       "         (162, 256, 3): 2,\n",
       "         (224, 256, 3): 3,\n",
       "         (502, 256, 3): 10,\n",
       "         (182, 255, 3): 4,\n",
       "         (128, 255, 3): 10,\n",
       "         (140, 255, 3): 35,\n",
       "         (127, 256, 3): 2,\n",
       "         (99, 254, 3): 6,\n",
       "         (499, 256, 3): 6,\n",
       "         (124, 256, 3): 5,\n",
       "         (145, 256, 3): 26,\n",
       "         (189, 256, 3): 1,\n",
       "         (188, 256, 3): 1,\n",
       "         (214, 255, 3): 58,\n",
       "         (120, 254, 3): 9,\n",
       "         (165, 255, 3): 6,\n",
       "         (154, 256, 3): 15,\n",
       "         (194, 255, 3): 63,\n",
       "         (486, 256, 3): 4,\n",
       "         (106, 254, 3): 11,\n",
       "         (142, 256, 3): 5,\n",
       "         (118, 255, 3): 11,\n",
       "         (187, 256, 3): 2,\n",
       "         (141, 256, 3): 15,\n",
       "         (178, 255, 3): 30,\n",
       "         (125, 255, 3): 6,\n",
       "         (138, 255, 3): 9,\n",
       "         (176, 144, 3): 2,\n",
       "         (121, 255, 3): 17,\n",
       "         (108, 254, 3): 4,\n",
       "         (179, 255, 3): 2,\n",
       "         (153, 256, 3): 7,\n",
       "         (126, 255, 3): 6,\n",
       "         (129, 255, 3): 14,\n",
       "         (159, 254, 3): 1,\n",
       "         (117, 255, 3): 1,\n",
       "         (155, 255, 3): 4,\n",
       "         (167, 256, 3): 1,\n",
       "         (127, 254, 3): 7,\n",
       "         (121, 256, 3): 13,\n",
       "         (174, 255, 3): 2,\n",
       "         (169, 256, 3): 4,\n",
       "         (145, 254, 3): 12,\n",
       "         (247, 256, 3): 1,\n",
       "         (109, 255, 3): 2,\n",
       "         (147, 256, 3): 2,\n",
       "         (145, 255, 3): 3,\n",
       "         (191, 143, 3): 4,\n",
       "         (66, 253, 3): 1,\n",
       "         (341, 255, 3): 1,\n",
       "         (177, 256, 3): 5,\n",
       "         (130, 254, 3): 3,\n",
       "         (377, 256, 3): 1,\n",
       "         (85, 254, 3): 1,\n",
       "         (200, 256, 3): 1,\n",
       "         (160, 256, 3): 26,\n",
       "         (73, 256, 3): 1,\n",
       "         (130, 255, 3): 3,\n",
       "         (172, 256, 3): 2,\n",
       "         (134, 254, 3): 9,\n",
       "         (311, 256, 3): 1,\n",
       "         (132, 254, 3): 7,\n",
       "         (116, 255, 3): 2,\n",
       "         (136, 255, 3): 2,\n",
       "         (112, 255, 3): 1,\n",
       "         (180, 255, 3): 2,\n",
       "         (149, 256, 3): 2,\n",
       "         (55, 255, 3): 1,\n",
       "         (132, 256, 3): 2,\n",
       "         (91, 256, 3): 1,\n",
       "         (245, 255, 3): 3,\n",
       "         (60, 253, 3): 1,\n",
       "         (188, 255, 3): 2,\n",
       "         (115, 255, 3): 2,\n",
       "         (81, 255, 3): 1,\n",
       "         (345, 255, 3): 1,\n",
       "         (159, 256, 3): 3,\n",
       "         (195, 255, 3): 2,\n",
       "         (133, 254, 3): 1,\n",
       "         (80, 254, 3): 1,\n",
       "         (75, 256, 3): 1,\n",
       "         (23, 250, 3): 1,\n",
       "         (106, 256, 3): 1,\n",
       "         (157, 256, 3): 2,\n",
       "         (198, 255, 3): 1,\n",
       "         (93, 255, 3): 20,\n",
       "         (161, 256, 3): 1,\n",
       "         (88, 256, 3): 2,\n",
       "         (131, 254, 3): 1,\n",
       "         (498, 256, 3): 2,\n",
       "         (67, 256, 3): 1,\n",
       "         (131, 256, 3): 3,\n",
       "         (138, 254, 3): 4,\n",
       "         (485, 256, 3): 2,\n",
       "         (173, 255, 3): 2,\n",
       "         (129, 254, 3): 1,\n",
       "         (120, 160, 3): 1,\n",
       "         (140, 256, 3): 6,\n",
       "         (142, 254, 3): 2,\n",
       "         (61, 256, 3): 1,\n",
       "         (454, 256, 3): 5,\n",
       "         (128, 254, 3): 3,\n",
       "         (318, 256, 3): 1,\n",
       "         (200, 255, 3): 2,\n",
       "         (56, 254, 3): 1,\n",
       "         (104, 254, 3): 1,\n",
       "         (161, 255, 3): 2,\n",
       "         (72, 253, 3): 1,\n",
       "         (134, 255, 3): 3,\n",
       "         (119, 255, 3): 3,\n",
       "         (46, 253, 3): 1,\n",
       "         (187, 255, 3): 4,\n",
       "         (208, 255, 3): 1,\n",
       "         (97, 255, 3): 3,\n",
       "         (88, 255, 3): 1,\n",
       "         (157, 255, 3): 2,\n",
       "         (208, 256, 3): 2,\n",
       "         (142, 255, 3): 2,\n",
       "         (151, 256, 3): 1,\n",
       "         (19, 250, 3): 1,\n",
       "         (60, 256, 3): 1,\n",
       "         (165, 256, 3): 2,\n",
       "         (124, 60, 3): 1,\n",
       "         (85, 256, 3): 2,\n",
       "         (167, 255, 3): 3,\n",
       "         (246, 255, 3): 2,\n",
       "         (414, 255, 3): 2,\n",
       "         (190, 255, 3): 3,\n",
       "         (80, 253, 3): 1,\n",
       "         (118, 54, 3): 1,\n",
       "         (342, 255, 3): 2,\n",
       "         (228, 255, 3): 1,\n",
       "         (193, 255, 3): 1,\n",
       "         (183, 255, 3): 1,\n",
       "         (454, 255, 3): 2,\n",
       "         (108, 255, 3): 3,\n",
       "         (258, 256, 3): 1,\n",
       "         (453, 255, 3): 1,\n",
       "         (201, 255, 3): 1,\n",
       "         (149, 254, 3): 1,\n",
       "         (72, 255, 3): 1,\n",
       "         (235, 216, 3): 1,\n",
       "         (120, 256, 3): 1,\n",
       "         (136, 256, 3): 2,\n",
       "         (384, 256, 3): 2,\n",
       "         (84, 254, 3): 1,\n",
       "         (173, 256, 3): 2,\n",
       "         (40, 251, 3): 2,\n",
       "         (54, 255, 3): 1,\n",
       "         (89, 254, 3): 1,\n",
       "         (196, 256, 3): 1,\n",
       "         (166, 255, 3): 2,\n",
       "         (59, 254, 3): 1,\n",
       "         (58, 252, 3): 1,\n",
       "         (110, 255, 3): 1,\n",
       "         (36, 252, 3): 1,\n",
       "         (452, 256, 3): 1,\n",
       "         (18, 253, 3): 1,\n",
       "         (35, 252, 3): 1,\n",
       "         (62, 254, 3): 1,\n",
       "         (163, 255, 3): 1,\n",
       "         (176, 256, 3): 1,\n",
       "         (91, 255, 3): 2,\n",
       "         (203, 255, 3): 1,\n",
       "         (179, 256, 3): 1,\n",
       "         (144, 176, 3): 1,\n",
       "         (490, 256, 3): 1,\n",
       "         (73, 254, 3): 1,\n",
       "         (85, 255, 3): 1,\n",
       "         (206, 255, 3): 1,\n",
       "         (178, 256, 3): 5,\n",
       "         (76, 254, 3): 1,\n",
       "         (92, 254, 3): 1,\n",
       "         (70, 256, 3): 1,\n",
       "         (227, 255, 3): 1,\n",
       "         (175, 256, 3): 1,\n",
       "         (53, 253, 3): 1,\n",
       "         (61, 252, 3): 1,\n",
       "         (164, 254, 3): 1,\n",
       "         (59, 253, 3): 1,\n",
       "         (339, 256, 3): 1,\n",
       "         (33, 250, 3): 1,\n",
       "         (222, 256, 3): 1,\n",
       "         (167, 254, 3): 1,\n",
       "         (148, 255, 3): 1,\n",
       "         (126, 256, 3): 1,\n",
       "         (96, 254, 3): 1,\n",
       "         (113, 255, 3): 1,\n",
       "         (209, 256, 3): 1,\n",
       "         (386, 256, 3): 1,\n",
       "         (52, 252, 3): 1,\n",
       "         (28, 253, 3): 1,\n",
       "         (164, 255, 3): 1,\n",
       "         (34, 250, 3): 1,\n",
       "         (158, 255, 3): 1,\n",
       "         (254, 256, 3): 1,\n",
       "         (49, 253, 3): 1,\n",
       "         (197, 255, 3): 1,\n",
       "         (57, 253, 3): 1,\n",
       "         (75, 255, 3): 1,\n",
       "         (41, 251, 3): 1,\n",
       "         (171, 114, 3): 1,\n",
       "         (266, 255, 3): 1,\n",
       "         (61, 253, 3): 1})"
      ]
     },
     "execution_count": 205,
     "metadata": {},
     "output_type": "execute_result"
    }
   ],
   "source": [
    "from collections import Counter\n",
    "Counter([i.shape for i in tqdm(img_series)])"
   ]
  },
  {
   "cell_type": "code",
   "execution_count": 251,
   "metadata": {
    "scrolled": false
   },
   "outputs": [],
   "source": [
    "theimg = reshape(io.imread(\"https://encrypted-tbn0.gstatic.com/images?q=tbn:ANd9GcS2RBxzDiJKUypDZkMceKYNj9jrix5r2OcM5Q&usqp=CAU\"))"
   ]
  },
  {
   "cell_type": "code",
   "execution_count": 268,
   "metadata": {},
   "outputs": [
    {
     "name": "stdout",
     "output_type": "stream",
     "text": [
      "1/1 [==============================] - 20s 20s/step\n"
     ]
    },
    {
     "data": {
      "text/plain": [
       "array([[11.289833 , -2.0622542]], dtype=float32)"
      ]
     },
     "execution_count": 268,
     "metadata": {},
     "output_type": "execute_result"
    }
   ],
   "source": [
    "model.predict(X_test[380][None, ...])"
   ]
  },
  {
   "cell_type": "code",
   "execution_count": 269,
   "metadata": {},
   "outputs": [
    {
     "data": {
      "text/plain": [
       "<matplotlib.image.AxesImage at 0x27c9193dcd0>"
      ]
     },
     "execution_count": 269,
     "metadata": {},
     "output_type": "execute_result"
    },
    {
     "data": {
      "image/png": "[encoded data removed]",
      "text/plain": [
       "<Figure size 432x288 with 1 Axes>"
      ]
     },
     "metadata": {
      "needs_background": "light"
     },
     "output_type": "display_data"
    }
   ],
   "source": [
    "io.imshow(X_test[380])"
   ]
  },
  {
   "cell_type": "code",
   "execution_count": 270,
   "metadata": {},
   "outputs": [
    {
     "data": {
      "text/plain": [
       "array([-65.31885376, -23.20575601])"
      ]
     },
     "execution_count": 270,
     "metadata": {},
     "output_type": "execute_result"
    }
   ],
   "source": [
    "y_test[380]"
   ]
  },
  {
   "cell_type": "code",
   "execution_count": null,
   "metadata": {},
   "outputs": [],
   "source": []
  }
 ],
 "metadata": {
  "accelerator": "GPU",
  "colab": {
   "provenance": []
  },
  "gpuClass": "standard",
  "kernelspec": {
   "display_name": "Python 3 (ipykernel)",
   "language": "python",
   "name": "python3"
  },
  "language_info": {
   "codemirror_mode": {
    "name": "ipython",
    "version": 3
   },
   "file_extension": ".py",
   "mimetype": "text/x-python",
   "name": "python",
   "nbconvert_exporter": "python",
   "pygments_lexer": "ipython3",
   "version": "3.9.12"
  }
 },
 "nbformat": 4,
 "nbformat_minor": 1
}
